{
 "cells": [
  {
   "cell_type": "code",
   "execution_count": 26,
   "metadata": {},
   "outputs": [],
   "source": [
    "import json\n",
    "import pandas as pd\n",
    "import numpy as np\n",
    "from dask import dataframe as df1\n",
    "import time"
   ]
  },
  {
   "cell_type": "code",
   "execution_count": 27,
   "metadata": {},
   "outputs": [],
   "source": [
    "source = \"reddit\"\n",
    "source_file_name = \"reddit\""
   ]
  },
  {
   "cell_type": "code",
   "execution_count": 28,
   "metadata": {},
   "outputs": [
    {
     "name": "stdout",
     "output_type": "stream",
     "text": [
      "Time taken to compute mean similarity: 240.89897227287292\n",
      "Time taken to compute mean similarity: 53.16112041473389\n",
      "Time taken to compute mean similarity: 55.27908515930176\n"
     ]
    }
   ],
   "source": [
    "similarities_df = df1.read_csv(f\"{source}/{source_file_name}_n_gram_similarities.csv\")\n",
    "\n",
    "similarities_df = similarities_df[\n",
    "    similarities_df[\"text_index_0\"] != similarities_df[\"text_index_1\"]\n",
    "]\n",
    "\n",
    "for n_gram_type in [1, 2, 3]:\n",
    "\n",
    "    similarities_df_n_gram = similarities_df[\n",
    "        similarities_df[\"n_gram_type\"] == n_gram_type\n",
    "    ]\n",
    "\n",
    "    start_time = time.time()\n",
    "    monthly_similarities_mean = (\n",
    "        similarities_df_n_gram.groupby([\"year\", \"month\"])[\"similarity\"].mean().compute()\n",
    "    )\n",
    "    end_time = time.time()\n",
    "\n",
    "    print(f\"Time taken to compute mean similarity: {end_time - start_time}\")\n",
    "\n",
    "    monthly_similarities_mean.sort_index(inplace=True)\n",
    "    pd.DataFrame(monthly_similarities_mean).reset_index().to_csv(\n",
    "        f\"{source}/monthly_similarities_mean_{n_gram_type}_gram.csv\", index=False\n",
    "    )"
   ]
  },
  {
   "cell_type": "code",
   "execution_count": null,
   "metadata": {},
   "outputs": [],
   "source": []
  }
 ],
 "metadata": {
  "kernelspec": {
   "display_name": "myenv",
   "language": "python",
   "name": "python3"
  },
  "language_info": {
   "codemirror_mode": {
    "name": "ipython",
    "version": 3
   },
   "file_extension": ".py",
   "mimetype": "text/x-python",
   "name": "python",
   "nbconvert_exporter": "python",
   "pygments_lexer": "ipython3",
   "version": "3.10.12"
  }
 },
 "nbformat": 4,
 "nbformat_minor": 2
}
