{
 "cells": [
  {
   "cell_type": "code",
   "execution_count": 1,
   "metadata": {},
   "outputs": [
    {
     "name": "stderr",
     "output_type": "stream",
     "text": [
      "/Users/zhivar/anaconda3/envs/py310/lib/python3.11/site-packages/pandas/core/arrays/masked.py:60: UserWarning: Pandas requires version '1.3.6' or newer of 'bottleneck' (version '1.3.5' currently installed).\n",
      "  from pandas.core import (\n"
     ]
    }
   ],
   "source": [
    "import pandas as pd\n",
    "import numpy as np\n",
    "import matplotlib.pyplot as plt\n",
    "import seaborn as sns\n",
    "import json\n",
    "from tqdm import tqdm"
   ]
  },
  {
   "cell_type": "code",
   "execution_count": 2,
   "metadata": {},
   "outputs": [
    {
     "name": "stderr",
     "output_type": "stream",
     "text": [
      "Exception ignored in: <bound method IPythonKernel._clean_thread_parent_frames of <ipykernel.ipkernel.IPythonKernel object at 0x107014e10>>\n",
      "Traceback (most recent call last):\n",
      "  File \"/Users/zhivar/anaconda3/envs/py310/lib/python3.11/site-packages/ipykernel/ipkernel.py\", line 770, in _clean_thread_parent_frames\n",
      "    def _clean_thread_parent_frames(\n",
      "\n",
      "KeyboardInterrupt: \n"
     ]
    }
   ],
   "source": [
    "with open(\"[tagged-zip]patchData.news.json\") as f:\n",
    "    data = json.load(f)"
   ]
  },
  {
   "cell_type": "code",
   "execution_count": 4,
   "metadata": {},
   "outputs": [
    {
     "data": {
      "text/plain": [
       "631610"
      ]
     },
     "execution_count": 4,
     "metadata": {},
     "output_type": "execute_result"
    }
   ],
   "source": [
    "len(data)"
   ]
  },
  {
   "cell_type": "code",
   "execution_count": 7,
   "metadata": {},
   "outputs": [
    {
     "data": {
      "text/plain": [
       "{'_id': {'$oid': '6537f9bf671e79766290a627'},\n",
       " 'created': '2023-10-20T14:35:58Z',\n",
       " 'title': 'Two Charged After Missing Tuscaloosa Man Found Dead',\n",
       " 'additionalBylines': [],\n",
       " 'ampAlias': '/alabama/tuscaloosa/amp/31580290/two-charged-after-missing-tuscaloosa-man-found-dead',\n",
       " 'author': {'id': 24390419,\n",
       "  'name': 'Ryan Phillips',\n",
       "  'profilePicture': 'https://patch.com/img/cdn20/users/24390419/profile_pics/107551096-10219157192293159-3944932341933027893-n___20115308824.jpg',\n",
       "  'alias': '/users/ryan-phillips-1',\n",
       "  'userTags': [],\n",
       "  'neighborPoints': 0,\n",
       "  'rid': 5},\n",
       " 'body': '<p>TUSCALOOSA, AL — Two Tuscaloosa County residents have been charged with abuse of a corpse after the body of a Tuscaloosa man missing for the last several weeks was recovered Thursday night. </p> <hr /> <p><em><a href=\"https://patch.com/alabama/tuscaloosa/subscribe\" rel=\"nofollow\" target=\"_blank\">Click here to subscribe to our free daily newsletter and breaking news alerts.</a></em><br /></p> <hr /> <p><a href=\"https://patch.com/alabama/tuscaloosa/missing-tuscaloosa-man-last-seen-oct-2-alberta\">As Patch previously reported</a>, 35-year-old Braxton Connell was last seen at the Piggly Wiggly in Alberta on Oct. 2, with family members telling police that he had plans to play golf with his friends but never showed up.<br /></p> <p>Captain Jack Kennedy, commander of the Tuscaloosa Violent Crimes Unit, said in a press release on Friday that TPD\\'s investigation developed a group of individuals and a residence in Coaling where it was believed that Connell was last known to have been. </p> <p>Kennedy went on to say that during initial interviews with these subjects, TPD investigators believed their statements were suspicious and the Tuscaloosa Violent Crimes Unit was contacted to aid in the investigation. </p> <p>According to Kennedy, the investigation resulted in Connell\\'s body being located late Thursday night in a wooded area off of Highway 216. </p> <p>\"At this time the victim\\'s cause of death is pending autopsy and examination by the Alabama Department of Forensic Sciences,\" he said. \"Illegal drugs are believed to be a factor in this case.\"</p> <p>Kennedy then said Ricky Duncan, 45, and Bettie Williamson, 64, were both charged with abuse of a corpse, before saying additional charges are possible. </p> <p>According to Alabama Code Section 13A-11-13, abuse of a corpse is a Class C felony, which is punishable with a minimum sentence of one year and a day in prison and a maximum sentence of 10 years.<br /></p> <p>Bonds for Duncan and Williamson were set at $2,500 each.</p> <hr /> <p><em>Have a news tip or suggestion on how I can improve Tuscaloosa Patch? Maybe you\\'re interested in having your business become one of the latest sponsors for Tuscaloosa Patch? Email all inquiries to me at ryan.phillips@patch.com</em><br /></p>',\n",
       " 'canonicalUrl': '/alabama/tuscaloosa/two-charged-after-missing-tuscaloosa-man-found-dead',\n",
       " 'category': 'news',\n",
       " 'contentBlocks': [{'content': '<p>TUSCALOOSA, AL — Two Tuscaloosa County residents have been charged with abuse of a corpse after the body of a Tuscaloosa man missing for the last several weeks was recovered Thursday night. </p>',\n",
       "   'key': 'html:0',\n",
       "   'type': 'html'},\n",
       "  {'content': 'client_ad_dfp_mobile_slot_1',\n",
       "   'key': 'advertisement:client_ad_dfp_mobile_slot_1',\n",
       "   'type': 'advertisement'},\n",
       "  {'content': '<hr /> <p><em><a href=\"https://patch.com/alabama/tuscaloosa/subscribe\" rel=\"nofollow\" target=\"_blank\">Click here to subscribe to our free daily newsletter and breaking news alerts.</a></em><br /></p> <hr /> <p><a href=\"https://patch.com/alabama/tuscaloosa/missing-tuscaloosa-man-last-seen-oct-2-alberta\">As Patch previously reported</a>, 35-year-old Braxton Connell was last seen at the Piggly Wiggly in Alberta on Oct. 2, with family members telling police that he had plans to play golf with his friends but never showed up.<br /></p>',\n",
       "   'key': 'html:2',\n",
       "   'type': 'html'},\n",
       "  {'device': 'mobile', 'key': 'subscribe:mobile', 'type': 'subscribe'},\n",
       "  {'content': 'artcl_1',\n",
       "   'key': 'advertisement:artcl_1',\n",
       "   'type': 'advertisement'},\n",
       "  {'content': \"<p>Captain Jack Kennedy, commander of the Tuscaloosa Violent Crimes Unit, said in a press release on Friday that TPD's investigation developed a group of individuals and a residence in Coaling where it was believed that Connell was last known to have been. </p> <p>Kennedy went on to say that during initial interviews with these subjects, TPD investigators believed their statements were suspicious and the Tuscaloosa Violent Crimes Unit was contacted to aid in the investigation. </p>\",\n",
       "   'key': 'html:5',\n",
       "   'type': 'html'},\n",
       "  {'content': 'client_ad_dfp_mobile_slot_2',\n",
       "   'key': 'advertisement:client_ad_dfp_mobile_slot_2',\n",
       "   'type': 'advertisement'},\n",
       "  {'device': 'desktop', 'key': 'subscribe:desktop', 'type': 'subscribe'},\n",
       "  {'content': '<p>According to Kennedy, the investigation resulted in Connell\\'s body being located late Thursday night in a wooded area off of Highway 216. </p> <p>\"At this time the victim’s cause of death is pending autopsy and examination by the Alabama Department of Forensic Sciences,\" he said. \"Illegal drugs are believed to be a factor in this case.\"</p>',\n",
       "   'key': 'html:8',\n",
       "   'type': 'html'},\n",
       "  {'content': 'client_ad_dfp_mobile_slot_3',\n",
       "   'key': 'advertisement:client_ad_dfp_mobile_slot_3',\n",
       "   'type': 'advertisement'},\n",
       "  {'content': '<p>Kennedy then said Ricky Duncan, 45, and Bettie Williamson, 64, were both charged with abuse of a corpse, before saying additional charges are possible. </p> <p>According to Alabama Code Section 13A-11-13, abuse of a corpse is a Class C felony, which is punishable with a minimum sentence of one year and a day in prison and a maximum sentence of 10 years.<br /></p>',\n",
       "   'key': 'html:10',\n",
       "   'type': 'html'},\n",
       "  {'content': 'artcl_m1',\n",
       "   'key': 'advertisement:artcl_m1',\n",
       "   'type': 'advertisement'},\n",
       "  {'content': \"<p>Bonds for Duncan and Williamson were set at $2,500 each.</p> <hr /> <p><em>Have a news tip or suggestion on how I can improve Tuscaloosa Patch? Maybe you're interested in having your business become one of the latest sponsors for Tuscaloosa Patch? Email all inquiries to me at ryan.phillips@patch.com</em><br /></p>\",\n",
       "   'key': 'html:12',\n",
       "   'type': 'html'},\n",
       "  {'key': 'forced_recirc', 'type': 'recirc'}],\n",
       " 'contentIABCategories': ['News and Politics>Crime'],\n",
       " 'contentKeywords': ['Tuscaloosa',\n",
       "  'man',\n",
       "  'two',\n",
       "  'charged',\n",
       "  'after',\n",
       "  'missing',\n",
       "  'found',\n",
       "  'dead'],\n",
       " 'contentSource': 'patch_user',\n",
       " 'enableAds': True,\n",
       " 'evergreen': False,\n",
       " 'flags': {'thankCount': 0,\n",
       "  'spamCount': 0,\n",
       "  'offensiveCount': 0,\n",
       "  'notLocalCount': 0,\n",
       "  'disagreeCount': 0,\n",
       "  'promotionalCount': 0,\n",
       "  'unverifiedCount': 0},\n",
       " 'id': 31580290,\n",
       " 'imageThumbnail': 'https://patch.com/img/cdn20/users/24390419/20231020/103557/styles/patch_image/public/collage-maker-20-oct-2023-08-45-am-5525___20094613988.jpg',\n",
       " 'images': [{'url': 'https://patch.com/img/cdn20/users/24390419/20231020/103557/styles/patch_image/public/collage-maker-20-oct-2023-08-45-am-5525___20094613988.jpg',\n",
       "   'caption': 'Williamson, left, and Duncan ',\n",
       "   'credit': 'Tuscaloosa County Jail'}],\n",
       " 'indexArticle': True,\n",
       " 'isShared': False,\n",
       " 'itemAlias': '/alabama/tuscaloosa/two-charged-after-missing-tuscaloosa-man-found-dead',\n",
       " 'location': 'Tuscaloosa, AL',\n",
       " 'originalContent': True,\n",
       " 'patch': {'email': 'tuscaloosa@patch.com',\n",
       "  'twitterUrl': 'https://twitter.com/TuscaloosaPatch',\n",
       "  'dma': 'birmingham',\n",
       "  'metro': {'name': 'Birmingham Metropolitan Area'},\n",
       "  'newsletterType': 'CURATED_DIGEST',\n",
       "  'latitude': '33.2098',\n",
       "  'model': 'mature',\n",
       "  'zipcodes': ['35401', '35404', '35405', '35406'],\n",
       "  'facebookUrl': 'https://facebook.com/107467807695789',\n",
       "  'county': {'name': 'Tuscaloosa County'},\n",
       "  'shortName': 'Tuscaloosa',\n",
       "  'grade': 'P',\n",
       "  'wbs': 'US_AL_TUSCALOOSA',\n",
       "  'slug': 'tuscaloosa',\n",
       "  'longitude': '-87.5692',\n",
       "  'covered': 'yes',\n",
       "  'timezone': 'America/Chicago',\n",
       "  'editor': {'id': '25934388',\n",
       "   'name': 'AL Patch Team',\n",
       "   'email': 'alabamasprouts@patch.com',\n",
       "   'alias': '/users/al-sprout-team'},\n",
       "  'alias': '/alabama/tuscaloosa',\n",
       "  'id': 11310,\n",
       "  'name': 'Tuscaloosa',\n",
       "  'region': {'id': 2700,\n",
       "   'name': 'Alabama',\n",
       "   'alias': '/alabama/across-al',\n",
       "   'abbreviation': 'AL'},\n",
       "  'type': 'community'},\n",
       " 'preHeader': 'TUSCALOOSA, AL &mdash; Two Tuscaloosa County residents have been charged with abuse of a corpse after the body of a Tuscaloosa man missing for the last several weeks was recovered Thursday night.   Cl',\n",
       " 'relCanonicalUrl': '/alabama/tuscaloosa/two-charged-after-missing-tuscaloosa-man-found-dead',\n",
       " 'repliesEnabled': True,\n",
       " 'replyCount': 0,\n",
       " 'shortTitle': 'Two Charged After Missing Tuscaloosa Man Found...',\n",
       " 'shouldRenderAmpLink': True,\n",
       " 'statusFlags': {'isSpecialPin': False,\n",
       "  'isTopStories': False,\n",
       "  'isMostRecent': True,\n",
       "  'isBreakingNews': False,\n",
       "  'isExternal': False,\n",
       "  'isDailyDigest': False,\n",
       "  'isRobot': False,\n",
       "  'isPressRelease': False,\n",
       "  'isSponsoredContent': False,\n",
       "  'isStaffContent': True,\n",
       "  'isNewsPartnerContent': False,\n",
       "  'isNeighborContent': False},\n",
       " 'summary': 'Two people have been charged with abuse of a corpse after the body of a missing Tuscaloosa man was recovered. ',\n",
       " 'tags': [],\n",
       " 'titleEmail': 'Two Charged After Missing Tuscaloosa Man Found Dead',\n",
       " 'titleSocial': 'Two Charged After Missing Tuscaloosa Man Found Dead ',\n",
       " 'topic': {'id': 3015,\n",
       "  'name': 'Crime & Safety',\n",
       "  'alias': '/alabama/tuscaloosa/police-fire'},\n",
       " 'totalReplies': 0,\n",
       " 'type': 'article',\n",
       " 'updated': '2023-10-20T14:43:37Z',\n",
       " 'video': None,\n",
       " 'defaultZipCode': '35401',\n",
       " 'zipcodes': ['35401', '35404', '35405', '35406']}"
      ]
     },
     "execution_count": 7,
     "metadata": {},
     "output_type": "execute_result"
    }
   ],
   "source": [
    "data[0]"
   ]
  },
  {
   "cell_type": "code",
   "execution_count": 10,
   "metadata": {},
   "outputs": [
    {
     "name": "stderr",
     "output_type": "stream",
     "text": []
    },
    {
     "data": {
      "text/plain": [
       "[('2011', 520),\n",
       " ('2012', 3221),\n",
       " ('2013', 27356),\n",
       " ('2014', 77170),\n",
       " ('2015', 75156),\n",
       " ('2016', 32916),\n",
       " ('2017', 36257),\n",
       " ('2018', 35378),\n",
       " ('2019', 39068),\n",
       " ('2020', 62470),\n",
       " ('2021', 114658),\n",
       " ('2022', 80089),\n",
       " ('2023', 47351)]"
      ]
     },
     "execution_count": 10,
     "metadata": {},
     "output_type": "execute_result"
    }
   ],
   "source": [
    "# get the dates using created_at\n",
    "dates = [d[\"created\"] for d in tqdm(data, leave=False)]\n",
    "years = [d.split(\"-\")[0] for d in dates]\n",
    "years = pd.Series(years)\n",
    "sorted(years.value_counts().items(), key=lambda x: x[0])"
   ]
  }
 ],
 "metadata": {
  "kernelspec": {
   "display_name": "py310",
   "language": "python",
   "name": "python3"
  },
  "language_info": {
   "codemirror_mode": {
    "name": "ipython",
    "version": 3
   },
   "file_extension": ".py",
   "mimetype": "text/x-python",
   "name": "python",
   "nbconvert_exporter": "python",
   "pygments_lexer": "ipython3",
   "version": "3.11.7"
  }
 },
 "nbformat": 4,
 "nbformat_minor": 2
}
