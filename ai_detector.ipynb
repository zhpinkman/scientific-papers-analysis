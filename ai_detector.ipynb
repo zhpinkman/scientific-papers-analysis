{
 "cells": [
  {
   "cell_type": "code",
   "execution_count": 1,
   "metadata": {},
   "outputs": [
    {
     "data": {
      "application/vnd.jupyter.widget-view+json": {
       "model_id": "cc1b60b02b0b43a4a5fe54a3c9378864",
       "version_major": 2,
       "version_minor": 0
      },
      "text/plain": [
       "config.json:   0%|          | 0.00/735 [00:00<?, ?B/s]"
      ]
     },
     "metadata": {},
     "output_type": "display_data"
    },
    {
     "data": {
      "application/vnd.jupyter.widget-view+json": {
       "model_id": "448837f4f5374b41a4ea82b8ad4295ae",
       "version_major": 2,
       "version_minor": 0
      },
      "text/plain": [
       "pytorch_model.bin:   0%|          | 0.00/499M [00:00<?, ?B/s]"
      ]
     },
     "metadata": {},
     "output_type": "display_data"
    },
    {
     "data": {
      "application/vnd.jupyter.widget-view+json": {
       "model_id": "ddbb1b2133774e2ab500157be7cbd262",
       "version_major": 2,
       "version_minor": 0
      },
      "text/plain": [
       "tokenizer_config.json:   0%|          | 0.00/1.34k [00:00<?, ?B/s]"
      ]
     },
     "metadata": {},
     "output_type": "display_data"
    },
    {
     "data": {
      "application/vnd.jupyter.widget-view+json": {
       "model_id": "e58a37cc19d44c63a8178f2ed187537b",
       "version_major": 2,
       "version_minor": 0
      },
      "text/plain": [
       "vocab.json:   0%|          | 0.00/999k [00:00<?, ?B/s]"
      ]
     },
     "metadata": {},
     "output_type": "display_data"
    },
    {
     "data": {
      "application/vnd.jupyter.widget-view+json": {
       "model_id": "57e4703e42a14b2498b3f2ee57836b2f",
       "version_major": 2,
       "version_minor": 0
      },
      "text/plain": [
       "merges.txt:   0%|          | 0.00/456k [00:00<?, ?B/s]"
      ]
     },
     "metadata": {},
     "output_type": "display_data"
    },
    {
     "data": {
      "application/vnd.jupyter.widget-view+json": {
       "model_id": "50566aa82b3c48d8a673a43b6aeab83b",
       "version_major": 2,
       "version_minor": 0
      },
      "text/plain": [
       "special_tokens_map.json:   0%|          | 0.00/957 [00:00<?, ?B/s]"
      ]
     },
     "metadata": {},
     "output_type": "display_data"
    }
   ],
   "source": [
    "# Use a pipeline as a high-level helper\n",
    "from transformers import pipeline\n",
    "\n",
    "pipe = pipeline(\"text-classification\", model=\"PirateXX/AI-Content-Detector\")"
   ]
  },
  {
   "cell_type": "code",
   "execution_count": 2,
   "metadata": {},
   "outputs": [],
   "source": [
    "# a text that is likely to be written by chatgpt.\n",
    "# Example of generating texts\n",
    "bot_text = \"\"\"Artificial Intelligence (AI) is a rapidly evolving field that encompasses machine learning, natural language processing, computer vision, and more. \n",
    "    Its applications range from improving healthcare diagnostics to optimizing supply chain operations. \n",
    "    While AI offers immense potential, it also raises ethical concerns, such as data privacy and algorithmic bias, which require careful consideration.\"\"\"\n",
    "\n",
    "human_text = \"\"\"AI is super cool, but let's be honest—it’s also a little scary. Sure, it helps doctors diagnose diseases faster and makes shopping online easier, \n",
    "    but what about the risks? Like, who’s making sure our data stays private or that these algorithms aren’t discriminating against people? \n",
    "    There’s so much potential, but we’ve got to keep an eye on the downsides too.\"\"\""
   ]
  },
  {
   "cell_type": "code",
   "execution_count": 3,
   "metadata": {},
   "outputs": [
    {
     "name": "stdout",
     "output_type": "stream",
     "text": [
      "Bot text: [{'label': 'LABEL_1', 'score': 0.8672508597373962}]\n",
      "Human text: [{'label': 'LABEL_1', 'score': 0.942744791507721}]\n"
     ]
    }
   ],
   "source": [
    "# use the pipeline to classify the texts\n",
    "\n",
    "bot_result = pipe(bot_text)\n",
    "human_result = pipe(human_text)\n",
    "\n",
    "print(\"Bot text:\", bot_result)\n",
    "print(\"Human text:\", human_result)"
   ]
  },
  {
   "cell_type": "code",
   "execution_count": 4,
   "metadata": {},
   "outputs": [
    {
     "data": {
      "text/plain": [
       "[{'label': 'LABEL_1', 'score': 0.8672508597373962}]"
      ]
     },
     "execution_count": 4,
     "metadata": {},
     "output_type": "execute_result"
    }
   ],
   "source": [
    "bot_result"
   ]
  },
  {
   "cell_type": "code",
   "execution_count": 1,
   "metadata": {},
   "outputs": [
    {
     "name": "stderr",
     "output_type": "stream",
     "text": [
      "/home/sourati/scientific-papers-analysis/myenv/lib/python3.10/site-packages/tqdm/auto.py:21: TqdmWarning: IProgress not found. Please update jupyter and ipywidgets. See https://ipywidgets.readthedocs.io/en/stable/user_install.html\n",
      "  from .autonotebook import tqdm as notebook_tqdm\n",
      "/home/sourati/scientific-papers-analysis/myenv/lib/python3.10/site-packages/huggingface_hub/file_download.py:795: FutureWarning: `resume_download` is deprecated and will be removed in version 1.0.0. Downloads always resume when possible. If you want to force a new download, use `force_download=True`.\n",
      "  warnings.warn(\n",
      "\n",
      "WARNING: You are currently loading Falcon using legacy code contained in the model repository. Falcon has now been fully ported into the Hugging Face transformers library. For the most up-to-date and high-performance version of the Falcon model code, please update to the latest version of transformers and then load the model without the trust_remote_code=True argument.\n",
      "\n",
      "Loading checkpoint shards: 100%|██████████| 2/2 [00:04<00:00,  2.02s/it]\n",
      "/home/sourati/scientific-papers-analysis/myenv/lib/python3.10/site-packages/huggingface_hub/file_download.py:795: FutureWarning: `resume_download` is deprecated and will be removed in version 1.0.0. Downloads always resume when possible. If you want to force a new download, use `force_download=True`.\n",
      "  warnings.warn(\n",
      "\n",
      "WARNING: You are currently loading Falcon using legacy code contained in the model repository. Falcon has now been fully ported into the Hugging Face transformers library. For the most up-to-date and high-performance version of the Falcon model code, please update to the latest version of transformers and then load the model without the trust_remote_code=True argument.\n",
      "\n",
      "Loading checkpoint shards: 100%|██████████| 2/2 [00:03<00:00,  1.87s/it]\n",
      "Using pad_token, but it is not set yet.\n"
     ]
    }
   ],
   "source": [
    "from binoculars import Binoculars\n",
    "\n",
    "bino = Binoculars(DEVICE_1=\"cuda:0\", DEVICE_2=\"cuda:1\")"
   ]
  },
  {
   "cell_type": "code",
   "execution_count": 8,
   "metadata": {},
   "outputs": [
    {
     "data": {
      "text/plain": [
       "[0.7566137313842773,\n",
       " 0.7671957612037659,\n",
       " 0.7671957612037659,\n",
       " 0.7566137313842773,\n",
       " 0.7671957612037659,\n",
       " 0.7671957612037659]"
      ]
     },
     "execution_count": 8,
     "metadata": {},
     "output_type": "execute_result"
    }
   ],
   "source": [
    "# ChatGPT (GPT-4) output when prompted with “Can you write a few sentences about a capybara that is an astrophysicist?\"\n",
    "sample_string = \"\"\"Dr. Capy Cosmos, a capybara unlike any other, astounded the scientific community with his \n",
    "groundbreaking research in astrophysics. With his keen sense of observation and unparalleled ability to interpret \n",
    "cosmic data, he uncovered new insights into the mysteries of black holes and the origins of the universe. As he \n",
    "peered through telescopes with his large, round eyes, fellow researchers often remarked that it seemed as if the \n",
    "stars themselves whispered their secrets directly to him. Dr. Cosmos not only became a beacon of inspiration to \n",
    "aspiring scientists but also proved that intellect and innovation can be found in the most unexpected of creatures.\"\"\"\n",
    "\n",
    "sample_string_1 = \"\"\"Dr. Capy Cosmos, a capybara unlike any other, astounded the scientific community with his\n",
    "groundbreaking research in astrophysics. With his keen sense of observation and unparalleled ability to interpret\n",
    "cosmic data, he uncovered new insights into the mysteries of black holes and the origins of the universe. As he\n",
    "peered through telescopes with his large, round eyes, fellow researchers often remarked that it seemed as if the\n",
    "stars themselves whispered their secrets directly to him. Dr. Cosmos not only became a beacon of inspiration to aspiring scientists\n",
    "but also proved that intellect and innovation can be found in the most unexpected of creatures.\"\"\"\n",
    "\n",
    "sample_string_2 = \"\"\"Dr. Capy Cosmos, a capybara unlike any other, astounded the scientific community with his\n",
    "groundbreaking research in astrophysics. With his keen sense of observation and unparalleled ability to interpret\n",
    "cosmic data, he uncovered new insights into the mysteries of black holes and the origins of the universe. As he\n",
    "peered through telescopes with his large, round eyes, fellow researchers often remarked that it seemed as if the\n",
    "stars themselves whispered their secrets directly to him. Dr. Cosmos not only became a beacon of inspiration to aspiring scientists\n",
    "but also proved that intellect and innovation can be found in the most unexpected of creatures.\"\"\"\n",
    "\n",
    "\n",
    "bino.compute_score([sample_string, sample_string_1, sample_string_2] * 2)"
   ]
  }
 ],
 "metadata": {
  "kernelspec": {
   "display_name": "py310",
   "language": "python",
   "name": "python3"
  },
  "language_info": {
   "codemirror_mode": {
    "name": "ipython",
    "version": 3
   },
   "file_extension": ".py",
   "mimetype": "text/x-python",
   "name": "python",
   "nbconvert_exporter": "python",
   "pygments_lexer": "ipython3",
   "version": "3.10.12"
  }
 },
 "nbformat": 4,
 "nbformat_minor": 2
}
