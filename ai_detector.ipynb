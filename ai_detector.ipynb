{
 "cells": [
  {
   "cell_type": "code",
   "execution_count": 1,
   "metadata": {},
   "outputs": [
    {
     "data": {
      "application/vnd.jupyter.widget-view+json": {
       "model_id": "cc1b60b02b0b43a4a5fe54a3c9378864",
       "version_major": 2,
       "version_minor": 0
      },
      "text/plain": [
       "config.json:   0%|          | 0.00/735 [00:00<?, ?B/s]"
      ]
     },
     "metadata": {},
     "output_type": "display_data"
    },
    {
     "data": {
      "application/vnd.jupyter.widget-view+json": {
       "model_id": "448837f4f5374b41a4ea82b8ad4295ae",
       "version_major": 2,
       "version_minor": 0
      },
      "text/plain": [
       "pytorch_model.bin:   0%|          | 0.00/499M [00:00<?, ?B/s]"
      ]
     },
     "metadata": {},
     "output_type": "display_data"
    },
    {
     "data": {
      "application/vnd.jupyter.widget-view+json": {
       "model_id": "ddbb1b2133774e2ab500157be7cbd262",
       "version_major": 2,
       "version_minor": 0
      },
      "text/plain": [
       "tokenizer_config.json:   0%|          | 0.00/1.34k [00:00<?, ?B/s]"
      ]
     },
     "metadata": {},
     "output_type": "display_data"
    },
    {
     "data": {
      "application/vnd.jupyter.widget-view+json": {
       "model_id": "e58a37cc19d44c63a8178f2ed187537b",
       "version_major": 2,
       "version_minor": 0
      },
      "text/plain": [
       "vocab.json:   0%|          | 0.00/999k [00:00<?, ?B/s]"
      ]
     },
     "metadata": {},
     "output_type": "display_data"
    },
    {
     "data": {
      "application/vnd.jupyter.widget-view+json": {
       "model_id": "57e4703e42a14b2498b3f2ee57836b2f",
       "version_major": 2,
       "version_minor": 0
      },
      "text/plain": [
       "merges.txt:   0%|          | 0.00/456k [00:00<?, ?B/s]"
      ]
     },
     "metadata": {},
     "output_type": "display_data"
    },
    {
     "data": {
      "application/vnd.jupyter.widget-view+json": {
       "model_id": "50566aa82b3c48d8a673a43b6aeab83b",
       "version_major": 2,
       "version_minor": 0
      },
      "text/plain": [
       "special_tokens_map.json:   0%|          | 0.00/957 [00:00<?, ?B/s]"
      ]
     },
     "metadata": {},
     "output_type": "display_data"
    }
   ],
   "source": [
    "# Use a pipeline as a high-level helper\n",
    "from transformers import pipeline\n",
    "\n",
    "pipe = pipeline(\"text-classification\", model=\"PirateXX/AI-Content-Detector\")"
   ]
  },
  {
   "cell_type": "code",
   "execution_count": 2,
   "metadata": {},
   "outputs": [],
   "source": [
    "# a text that is likely to be written by chatgpt.\n",
    "# Example of generating texts\n",
    "bot_text = \"\"\"Artificial Intelligence (AI) is a rapidly evolving field that encompasses machine learning, natural language processing, computer vision, and more. \n",
    "    Its applications range from improving healthcare diagnostics to optimizing supply chain operations. \n",
    "    While AI offers immense potential, it also raises ethical concerns, such as data privacy and algorithmic bias, which require careful consideration.\"\"\"\n",
    "\n",
    "human_text = \"\"\"AI is super cool, but let's be honest—it’s also a little scary. Sure, it helps doctors diagnose diseases faster and makes shopping online easier, \n",
    "    but what about the risks? Like, who’s making sure our data stays private or that these algorithms aren’t discriminating against people? \n",
    "    There’s so much potential, but we’ve got to keep an eye on the downsides too.\"\"\""
   ]
  },
  {
   "cell_type": "code",
   "execution_count": 3,
   "metadata": {},
   "outputs": [
    {
     "name": "stdout",
     "output_type": "stream",
     "text": [
      "Bot text: [{'label': 'LABEL_1', 'score': 0.8672508597373962}]\n",
      "Human text: [{'label': 'LABEL_1', 'score': 0.942744791507721}]\n"
     ]
    }
   ],
   "source": [
    "# use the pipeline to classify the texts\n",
    "\n",
    "bot_result = pipe(bot_text)\n",
    "human_result = pipe(human_text)\n",
    "\n",
    "print(\"Bot text:\", bot_result)\n",
    "print(\"Human text:\", human_result)"
   ]
  },
  {
   "cell_type": "code",
   "execution_count": 4,
   "metadata": {},
   "outputs": [
    {
     "data": {
      "text/plain": [
       "[{'label': 'LABEL_1', 'score': 0.8672508597373962}]"
      ]
     },
     "execution_count": 4,
     "metadata": {},
     "output_type": "execute_result"
    }
   ],
   "source": [
    "bot_result"
   ]
  }
 ],
 "metadata": {
  "kernelspec": {
   "display_name": "py310",
   "language": "python",
   "name": "python3"
  },
  "language_info": {
   "codemirror_mode": {
    "name": "ipython",
    "version": 3
   },
   "file_extension": ".py",
   "mimetype": "text/x-python",
   "name": "python",
   "nbconvert_exporter": "python",
   "pygments_lexer": "ipython3",
   "version": "3.11.7"
  }
 },
 "nbformat": 4,
 "nbformat_minor": 2
}
