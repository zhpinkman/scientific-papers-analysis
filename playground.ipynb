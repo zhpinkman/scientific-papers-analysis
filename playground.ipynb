{
 "cells": [
  {
   "cell_type": "code",
   "execution_count": null,
   "metadata": {},
   "outputs": [],
   "source": [
    "# try to replicate these using spacy:\n",
    "\n",
    "# agent: agent\n",
    "# An agent is the complement of a passive verb which is introduced by the preposition “by” and does the\n",
    "# action. This relation only appears in the collapsed dependencies, where it can replace prep by, where\n",
    "# appropriate. It does not appear in basic dependencies output.\n",
    "# “The man has been killed by the police” agent(killed, police)\n",
    "# “Effects caused by the protein are important” agent(caused, protein)"
   ]
  },
  {
   "cell_type": "code",
   "execution_count": 3,
   "metadata": {},
   "outputs": [],
   "source": [
    "import spacy\n",
    "\n",
    "nlp = spacy.load(\"en_core_web_sm\")"
   ]
  },
  {
   "cell_type": "code",
   "execution_count": 4,
   "metadata": {},
   "outputs": [
    {
     "name": "stdout",
     "output_type": "stream",
     "text": [
      "killed -- agent --> by\n",
      "\n",
      "\n"
     ]
    }
   ],
   "source": [
    "sentence = \"The man has been killed by the police\"\n",
    "\n",
    "doc = nlp(sentence)\n",
    "\n",
    "for token in doc:\n",
    "    if token.dep_ == \"agent\":\n",
    "        print(token.head.text, \"--\", \"agent\", \"-->\", token.text)\n",
    "        print(\"\\n\")"
   ]
  },
  {
   "cell_type": "code",
   "execution_count": 7,
   "metadata": {},
   "outputs": [
    {
     "name": "stdout",
     "output_type": "stream",
     "text": [
      "says -- ccomp --> like\n",
      "\n",
      "\n",
      "-------------------\n",
      "certain -- ccomp --> did\n",
      "\n",
      "\n",
      "-------------------\n",
      "-------------------\n"
     ]
    }
   ],
   "source": [
    "dep_label = \"ccomp\"\n",
    "\n",
    "sent1 = \"He says that you like to swim\"\n",
    "sent2 = \"I am certain that he did it\"\n",
    "sent3 = \"I admire the fact that you are honest\"\n",
    "\n",
    "for sent in [sent1, sent2, sent3]:\n",
    "    doc = nlp(sent)\n",
    "    for token in doc:\n",
    "        if token.dep_ == dep_label:\n",
    "            print(token.head.text, \"--\", dep_label, \"-->\", token.text)\n",
    "            print(\"\\n\")\n",
    "    print(\"-------------------\")"
   ]
  },
  {
   "cell_type": "code",
   "execution_count": 9,
   "metadata": {},
   "outputs": [
    {
     "name": "stdout",
     "output_type": "stream",
     "text": [
      "is -- csubj --> said\n",
      "\n",
      "\n",
      "-------------------\n",
      "makes -- csubj --> said\n",
      "\n",
      "\n",
      "-------------------\n"
     ]
    }
   ],
   "source": [
    "dep_label = \"csubj\"\n",
    "\n",
    "sent1 = \"What she said is not true\"\n",
    "sent2 = \"What she said makes sense\"\n",
    "\n",
    "for sent in [sent1, sent2]:\n",
    "    doc = nlp(sent)\n",
    "    for token in doc:\n",
    "        if token.dep_ == dep_label:\n",
    "            print(token.head.text, \"--\", dep_label, \"-->\", token.text)\n",
    "            print(\"\\n\")\n",
    "    print(\"-------------------\")"
   ]
  },
  {
   "cell_type": "code",
   "execution_count": 10,
   "metadata": {},
   "outputs": [
    {
     "name": "stdout",
     "output_type": "stream",
     "text": [
      "Bill --> nsubj --> is\n",
      "\n",
      "\n",
      "is --> ROOT --> is\n",
      "\n",
      "\n",
      "big --> acomp --> is\n",
      "\n",
      "\n",
      "and --> cc --> big\n",
      "\n",
      "\n",
      "honest --> conj --> big\n",
      "\n",
      "\n"
     ]
    }
   ],
   "source": [
    "# write down all the dependecies between entities in the sentence Bill is big and honest\n",
    "\n",
    "sentence = \"Bill is big and honest\"\n",
    "\n",
    "doc = nlp(sentence)\n",
    "\n",
    "for token in doc:\n",
    "    print(token.text, \"-->\", token.dep_, \"-->\", token.head.text)\n",
    "    print(\"\\n\")"
   ]
  },
  {
   "cell_type": "code",
   "execution_count": 11,
   "metadata": {},
   "outputs": [
    {
     "name": "stdout",
     "output_type": "stream",
     "text": [
      "They --> nsubj --> heard\n",
      "\n",
      "\n",
      "heard --> ROOT --> heard\n",
      "\n",
      "\n",
      "about --> prep --> heard\n",
      "\n",
      "\n",
      "you --> nsubj --> missing\n",
      "\n",
      "\n",
      "missing --> pcomp --> about\n",
      "\n",
      "\n",
      "classes --> dobj --> heard\n",
      "\n",
      "\n"
     ]
    }
   ],
   "source": [
    "# same for the sentence They heard about you missing classes\n",
    "\n",
    "sentence = \"They heard about you missing classes\"\n",
    "\n",
    "doc = nlp(sentence)\n",
    "\n",
    "for token in doc:\n",
    "    print(token.text, \"-->\", token.dep_, \"-->\", token.head.text)\n",
    "    print(\"\\n\")"
   ]
  },
  {
   "cell_type": "code",
   "execution_count": 12,
   "metadata": {},
   "outputs": [
    {
     "name": "stdout",
     "output_type": "stream",
     "text": [
      "We --> nsubj --> have\n",
      "\n",
      "\n",
      "have --> ROOT --> have\n",
      "\n",
      "\n",
      "no --> det --> information\n",
      "\n",
      "\n",
      "information --> dobj --> have\n",
      "\n",
      "\n",
      "on --> prep --> information\n",
      "\n",
      "\n",
      "whether --> mark --> are\n",
      "\n",
      "\n",
      "users --> nsubj --> are\n",
      "\n",
      "\n",
      "are --> pcomp --> on\n",
      "\n",
      "\n",
      "at --> prep --> are\n",
      "\n",
      "\n",
      "risk --> pobj --> at\n",
      "\n",
      "\n"
     ]
    }
   ],
   "source": [
    "sentence = \"We have no information on whether users are at risk\"\n",
    "\n",
    "doc = nlp(sentence)\n",
    "\n",
    "for token in doc:\n",
    "    print(token.text, \"-->\", token.dep_, \"-->\", token.head.text)\n",
    "    print(\"\\n\")"
   ]
  },
  {
   "cell_type": "code",
   "execution_count": 13,
   "metadata": {},
   "outputs": [
    {
     "name": "stdout",
     "output_type": "stream",
     "text": [
      "The --> det --> guy\n",
      "\n",
      "\n",
      "guy --> nsubj --> left\n",
      "\n",
      "\n",
      ", --> punct --> said\n",
      "\n",
      "\n",
      "John --> nsubj --> said\n",
      "\n",
      "\n",
      "said --> parataxis --> left\n",
      "\n",
      "\n",
      ", --> punct --> said\n",
      "\n",
      "\n",
      "left --> ROOT --> left\n",
      "\n",
      "\n",
      "early --> advmod --> in\n",
      "\n",
      "\n",
      "in --> prep --> left\n",
      "\n",
      "\n",
      "the --> det --> morning\n",
      "\n",
      "\n",
      "morning --> pobj --> in\n",
      "\n",
      "\n"
     ]
    }
   ],
   "source": [
    "# same for The guy, John said, left early in the morning\n",
    "\n",
    "sentence = \"The guy, John said, left early in the morning\"\n",
    "\n",
    "doc = nlp(sentence)\n",
    "\n",
    "for token in doc:\n",
    "    print(token.text, \"-->\", token.dep_, \"-->\", token.head.text)\n",
    "    print(\"\\n\")"
   ]
  },
  {
   "cell_type": "code",
   "execution_count": 19,
   "metadata": {},
   "outputs": [
    {
     "name": "stdout",
     "output_type": "stream",
     "text": [
      "Sentence: Truffles picked during the spring are tasty. Points to establish are the following. I don't have anything to say to you. Bill tried to shoot demonstrating his incompetence. I saw the man you love.\n",
      "Truffles --> nsubj --> are\n",
      "\n",
      "\n",
      "picked --> acl --> Truffles\n",
      "\n",
      "\n",
      "during --> prep --> picked\n",
      "\n",
      "\n",
      "the --> det --> spring\n",
      "\n",
      "\n",
      "spring --> pobj --> during\n",
      "\n",
      "\n",
      "are --> ROOT --> are\n",
      "\n",
      "\n",
      "tasty --> acomp --> are\n",
      "\n",
      "\n",
      ". --> punct --> are\n",
      "\n",
      "\n",
      "Points --> nsubj --> are\n",
      "\n",
      "\n",
      "to --> aux --> establish\n",
      "\n",
      "\n",
      "establish --> relcl --> Points\n",
      "\n",
      "\n",
      "are --> ROOT --> are\n",
      "\n",
      "\n",
      "the --> det --> following\n",
      "\n",
      "\n",
      "following --> attr --> are\n",
      "\n",
      "\n",
      ". --> punct --> are\n",
      "\n",
      "\n",
      "I --> nsubj --> have\n",
      "\n",
      "\n",
      "do --> aux --> have\n",
      "\n",
      "\n",
      "n't --> neg --> have\n",
      "\n",
      "\n",
      "have --> ROOT --> have\n",
      "\n",
      "\n",
      "anything --> dobj --> have\n",
      "\n",
      "\n",
      "to --> aux --> say\n",
      "\n",
      "\n",
      "say --> relcl --> anything\n",
      "\n",
      "\n",
      "to --> prep --> say\n",
      "\n",
      "\n",
      "you --> pobj --> to\n",
      "\n",
      "\n",
      ". --> punct --> have\n",
      "\n",
      "\n",
      "Bill --> nsubj --> tried\n",
      "\n",
      "\n",
      "tried --> ROOT --> tried\n",
      "\n",
      "\n",
      "to --> aux --> shoot\n",
      "\n",
      "\n",
      "shoot --> xcomp --> tried\n",
      "\n",
      "\n",
      "demonstrating --> xcomp --> shoot\n",
      "\n",
      "\n",
      "his --> poss --> incompetence\n",
      "\n",
      "\n",
      "incompetence --> dobj --> demonstrating\n",
      "\n",
      "\n",
      ". --> punct --> tried\n",
      "\n",
      "\n",
      "I --> nsubj --> saw\n",
      "\n",
      "\n",
      "saw --> ROOT --> saw\n",
      "\n",
      "\n",
      "the --> det --> man\n",
      "\n",
      "\n",
      "man --> dobj --> saw\n",
      "\n",
      "\n",
      "you --> nsubj --> love\n",
      "\n",
      "\n",
      "love --> relcl --> man\n",
      "\n",
      "\n",
      ". --> punct --> saw\n",
      "\n",
      "\n",
      "-------------------\n"
     ]
    }
   ],
   "source": [
    "sentences = [\n",
    "    \"Truffles picked during the spring are tasty. Points to establish are the following. I don't have anything to say to you. Bill tried to shoot demonstrating his incompetence. I saw the man you love.\",\n",
    "]\n",
    "\n",
    "for sentence in sentences:\n",
    "    print(\"Sentence:\", sentence)\n",
    "    doc = nlp(sentence)\n",
    "\n",
    "    for token in doc:\n",
    "        print(token.text, \"-->\", token.dep_, \"-->\", token.head.text)\n",
    "        print(\"\\n\")\n",
    "    print(\"-------------------\")"
   ]
  },
  {
   "cell_type": "code",
   "execution_count": 5,
   "metadata": {},
   "outputs": [
    {
     "name": "stdout",
     "output_type": "stream",
     "text": [
      "633\n",
      "Penny reached for her holographic tablet. Again. He’d done it again. At her tender age, Penny should be thinking about school, debate society, boys... Anything, but Uncle Gadget. Her grades were suffering: she’d never had a ‘B+’ before, particularly not in Comp-Sci. She could program fluently in six languages and hack the Pentagon. So HOW did SHE get a ‘B+’? Gadget. She fell asleep 14 minutes into the hour, all of her answers right...and then blank. Her professor didn’t know about her secret life, of course. Just assumed she’d been out too late with friends the night before or online gaming. But, no. It was Thursday and already she’d been up late three nights in a row fixing Gadget’s mistakes and saving the world YET AGAIN from Dr Claw and his evil, but decidedly cute, cat. Uncle Gadget was loyal. He took care of her. Let her see a world other kids her age and even most adults would never know existed: Dr Claw’s shadow cabal. Penny knew she should fear Claw, but he played by the rules of logic. Claw was smart. Each villainous plan was carefully engineered. She hated to admit it, but she admired the thought he put into his work. Defeating him was challenging to be sure, but also kind of fun. Each new case was a problem to crack. Despite her youth, Penny had years of experience under her belt and a mind to match. She could defeat Claw, and for the most part, did. But Uncle Gadget was another matter entirely. Before she died, Mom used to say her brother, Gadget, was ‘a bit special’. Kind heart, but not the brightest bulb. Which must have been tough growing up in a family with several Nobel Prize winners, 314 patents, and a global computing empire. And that was just among Mom, Uncle Bob, Grandpa, and Grandma. To be sure, Gadget benefited from ‘off books’ funding from the family empire. There was no other way he could finance his crazy detective business before Penny started as an intern once he took over her care. Who would pay for Gadget’s ‘uneven’ results? And it was these ‘uneven results’ that were now killing her. Penny was nothing if not rational. Evil plots that could be foiled in a couple hours after school were drawn out because Gadget insisted on testing his latest stupid invention on each caper. The moronic umbrella parachute hat. His idiotic extendable arms. Whatever he could hide under his beige trench coat. The coat was really the source of many of Penny’s problems. If she could just see in advance what latest ‘gadget’ her Uncle was bringing to the battle, she could have planned around it. But no, Gadget liked to surprise her. His grand unveilings would be the death of her, if she wasn’t careful. The proverbial wrench in each of Penny’s carefully-crafted counter plans. Decrypting Claw’s latest plan from his AES-256 bit system was a cakewalk. It helped, of course, that Penny’s Uncle Bob had invented it. Then gather the requisite mission tools from Grandma’s top-secret advanced prototyping center. Pick up Uncle Gadget, as according to Gram, even the world’s greatest detective ‘needed a chaperone at age ten.’ Hop onto one of the family’s private supersonic jets to defeat Claw and get back in time for homework. Easy as pie, except the Gadget part. Much as she loved him, Uncle G always added hours Penny did not have to her missions. If she was going to complete her specially created combo Harvard undergrad / JD / MBA / Comp Sci and Criminology PHDs by 13, she really needed a bit more spare time... Maybe she could at least get Uncle G to ditch the coat and its myriad surprises. That should save an hour or two.\n"
     ]
    }
   ],
   "source": [
    "import re\n",
    "\n",
    "\n",
    "def extract_plain_text(markdown_text):\n",
    "    # Remove markdown links (e.g., [text](url))\n",
    "    plain_text = re.sub(r\"\\[([^\\]]+)\\]\\([^)]+\\)\", r\"\\1\", markdown_text)\n",
    "    # Remove bold and italic markdown formatting (*text* or **text**)\n",
    "    plain_text = re.sub(r\"\\*{1,2}([^\\*]+)\\*{1,2}\", r\"\\1\", plain_text)\n",
    "    # Remove markdown headings or dividers (e.g., \"---\", \"### Text\")\n",
    "    plain_text = re.sub(r\"^\\s*[-#]+.*$\", \"\", plain_text, flags=re.MULTILINE)\n",
    "    # Replace escaped newlines with actual newlines\n",
    "    plain_text = re.sub(r\"\\\\n\", \"\\n\", plain_text)\n",
    "    # Strip leading/trailing whitespace\n",
    "    # remove all the extra white spaces\n",
    "    plain_text = re.sub(r\"\\s+\", \" \", plain_text)\n",
    "    return plain_text.strip()\n",
    "\n",
    "\n",
    "# Example text\n",
    "# markdown_text = \"\"\"Hi u/QiDogQi, this submission has been removed.\\n\\nNSFW responses to non-NSFW prompts are not allowed and this prompt is likely to generate them \\n\\n* *This was removed [based on the comments it's likely to attract](https://www.reddit.com/r/WritingPrompts/wiki/rules#wiki_rule_7.3A_prompts_will_be_removed_if_there.27s_a_high_possibility_for_rule_breaking_responses), specifically via [Rule 2](https://www.reddit.com/r/WritingPrompts/wiki/rules#wiki_rule_2.3A_no_explicitly_sexual_responses.2C_hate_speech.2C_or_other_harmful_content)*\\n\\n---\\n\\nNo prompts prone to comment infractions. See [here](https://www.reddit.com/r/WritingPrompts/wiki/rules#wiki_rule_7.3A_prompts_will_be_removed_if_there.27s_a_high_possibility_for_rule_breaking_responses) for more info. \\n\\n* *From Rule 7: [Prompts will be removed if there's a high possibility for rule breaking responses](https://www.reddit.com/r/WritingPrompts/wiki/rules#wiki_rule_7.3A_prompts_will_be_removed_if_there.27s_a_high_possibility_for_rule_breaking_responses)*\\n\\n---\\n\\n\\n\\n---\\n\\n[Modmail](https://www.reddit.com/message/compose?to=%2Fr%2FWritingPrompts&subject=Removed%20post&message=https://www.reddit.com/r/WritingPrompts/comments/jy8l3n/-/%0A%0A) us if you have any questions or concerns.  In the future, please refer to the [sidebar](https://www.reddit.com/r/WritingPrompts/wiki/config/sidebar) before posting. \\n\\n*This action was not automated and this moderator is human. Time to go do human things.*\"\"\"\n",
    "\n",
    "markdown_text = \"\"\"Penny reached for her holographic tablet. Again. He’d done it again. At her tender age, Penny should be thinking about school, debate society, boys... Anything, but Uncle Gadget.\\n\\nHer grades were suffering: she’d never had a ‘B+’ before, particularly not in Comp-Sci. She could program fluently in six languages and hack the Pentagon. So HOW did SHE get a ‘B+’? Gadget. She fell asleep 14 minutes into the hour, all of her answers right...and then blank. Her professor didn’t know about her secret life, of course. Just assumed she’d been out too late with friends the night before or online gaming. \\n\\nBut, no. It was Thursday and already she’d been up late three nights in a row fixing Gadget’s mistakes and saving the world YET AGAIN from Dr Claw and his evil, but decidedly cute, cat. \\n\\nUncle Gadget was loyal. He took care of her. Let her see a world other kids her age and even most adults would never know existed: Dr Claw’s shadow cabal.\\n\\nPenny knew she should fear Claw, but he played by the rules of logic. Claw was smart. Each villainous plan was carefully engineered. She hated to admit it, but she admired the thought he put into his work. Defeating him was challenging to be sure, but also kind of fun. Each new case was a problem to crack. Despite her youth, Penny had years of experience under her belt and a mind to match. She could defeat Claw, and for the most part, did. But Uncle Gadget was another matter entirely.\\n\\nBefore she died, Mom used to say her brother, Gadget, was ‘a bit special’. Kind heart, but not the brightest bulb. Which must have been tough growing up in a family with several Nobel Prize winners, 314 patents, and a global computing empire. And that was just among Mom, Uncle Bob, Grandpa, and Grandma. To be sure, Gadget benefited from ‘off books’ funding from the family empire. There was no other way he could finance his crazy detective business before Penny started as an intern once he took over her care. Who would pay for Gadget’s ‘uneven’ results? \\n\\nAnd it was these ‘uneven results’ that were now killing her. Penny was nothing if not rational. Evil plots that could be foiled in a couple hours after school were drawn out because Gadget insisted on testing his latest stupid invention on each caper. The moronic umbrella parachute hat. His idiotic extendable arms. Whatever he could hide under his beige trench coat. \\n\\nThe coat was really the source of many of Penny’s problems. If she could just see in advance what latest ‘gadget’ her Uncle was bringing to the battle, she could have planned around it. But no, Gadget liked to surprise her. His grand unveilings would be the death of her, if she wasn’t careful. The proverbial wrench in each of Penny’s carefully-crafted counter plans. \\n\\nDecrypting Claw’s latest plan from his AES-256 bit system was a cakewalk. It helped, of course, that Penny’s Uncle Bob had invented it. Then gather the requisite mission tools from Grandma’s top-secret advanced prototyping center. Pick up Uncle Gadget, as according to Gram, even the world’s greatest detective ‘needed a chaperone at age ten.’ Hop onto one of the family’s private supersonic jets to defeat Claw and get back in time for homework. \\n\\nEasy as pie, except the Gadget part. Much as she loved him, Uncle G always added hours Penny did not have to her missions. \\n\\nIf she was going to complete her specially created combo Harvard undergrad / JD / MBA / Comp Sci and Criminology PHDs by 13, she really needed a bit more spare time...\\n\\nMaybe she could at least get Uncle G to ditch the coat and its myriad surprises. That should save an hour or two.\"\"\"\n",
    "\n",
    "# Extract plain text\n",
    "plain_text = extract_plain_text(markdown_text)\n",
    "print(len(plain_text.split()))\n",
    "print(plain_text)"
   ]
  }
 ],
 "metadata": {
  "kernelspec": {
   "display_name": "myenv",
   "language": "python",
   "name": "python3"
  },
  "language_info": {
   "codemirror_mode": {
    "name": "ipython",
    "version": 3
   },
   "file_extension": ".py",
   "mimetype": "text/x-python",
   "name": "python",
   "nbconvert_exporter": "python",
   "pygments_lexer": "ipython3",
   "version": "3.10.12"
  }
 },
 "nbformat": 4,
 "nbformat_minor": 2
}
